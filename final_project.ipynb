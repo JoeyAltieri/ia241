{
 "cells": [
  {
   "cell_type": "markdown",
   "id": "d5c5bc13",
   "metadata": {},
   "source": [
    "## Analyzing COVID-19 Data in America"
   ]
  },
  {
   "cell_type": "markdown",
   "id": "a61b35c6",
   "metadata": {},
   "source": [
    "![American flag](https://images.thdstatic.com/productImages/db0e6df1-f474-4b00-a8ed-d5da0506989c/svn/anley-house-flags-a-flag-us-sewn-64_600.jpg)"
   ]
  },
  {
   "cell_type": "markdown",
   "id": "48b30408",
   "metadata": {},
   "source": [
    "## covid background"
   ]
  },
  {
   "cell_type": "markdown",
   "id": "aede019e",
   "metadata": {},
   "source": [
    "## COVID-19 was discovered in Wuhan, China in December of 2019. It has since been classified as a pandemic and over 100 million cases have been reported. "
   ]
  },
  {
   "cell_type": "markdown",
   "id": "29d9db77",
   "metadata": {},
   "source": [
    "## data source"
   ]
  },
  {
   "cell_type": "markdown",
   "id": "20bc75b4",
   "metadata": {},
   "source": [
    "This data is from [European Centre for Disease Prevention and Control](https://www.ecdc.europa.eu/en/publications-data/download-todays-data-geographic-distribution-covid-19-cases-worldwide)"
   ]
  },
  {
   "cell_type": "markdown",
   "id": "c9f02f00",
   "metadata": {},
   "source": [
    "## Explanation of calculations "
   ]
  },
  {
   "cell_type": "markdown",
   "id": "950bf0ec",
   "metadata": {},
   "source": [
    "The lineplot for question one gave me a simple viual explanation of data. The bar graph for question 2 made each months deaths more clear due to how they contrast one another. The scatter plot for question 3 allows me to be able to see trends whether they are upwards or downwards."
   ]
  },
  {
   "cell_type": "code",
   "execution_count": 1,
   "id": "d42f4efb",
   "metadata": {},
   "outputs": [],
   "source": [
    "%matplotlib inline"
   ]
  },
  {
   "cell_type": "code",
   "execution_count": 11,
   "id": "5da63083",
   "metadata": {},
   "outputs": [],
   "source": [
    "import pandas"
   ]
  },
  {
   "cell_type": "code",
   "execution_count": 3,
   "id": "8d44dfea",
   "metadata": {},
   "outputs": [
    {
     "data": {
      "text/html": [
       "<div>\n",
       "<style scoped>\n",
       "    .dataframe tbody tr th:only-of-type {\n",
       "        vertical-align: middle;\n",
       "    }\n",
       "\n",
       "    .dataframe tbody tr th {\n",
       "        vertical-align: top;\n",
       "    }\n",
       "\n",
       "    .dataframe thead th {\n",
       "        text-align: right;\n",
       "    }\n",
       "</style>\n",
       "<table border=\"1\" class=\"dataframe\">\n",
       "  <thead>\n",
       "    <tr style=\"text-align: right;\">\n",
       "      <th></th>\n",
       "      <th>dateRep</th>\n",
       "      <th>day</th>\n",
       "      <th>month</th>\n",
       "      <th>year</th>\n",
       "      <th>cases</th>\n",
       "      <th>deaths</th>\n",
       "      <th>countriesAndTerritories</th>\n",
       "      <th>geoId</th>\n",
       "      <th>countryterritoryCode</th>\n",
       "      <th>popData2019</th>\n",
       "      <th>continentExp</th>\n",
       "      <th>Cumulative_number_for_14_days_of_COVID-19_cases_per_100000</th>\n",
       "    </tr>\n",
       "  </thead>\n",
       "  <tbody>\n",
       "    <tr>\n",
       "      <th>0</th>\n",
       "      <td>14/12/2020</td>\n",
       "      <td>14</td>\n",
       "      <td>12</td>\n",
       "      <td>2020</td>\n",
       "      <td>746</td>\n",
       "      <td>6</td>\n",
       "      <td>Afghanistan</td>\n",
       "      <td>AF</td>\n",
       "      <td>AFG</td>\n",
       "      <td>38041757.0</td>\n",
       "      <td>Asia</td>\n",
       "      <td>9.013779</td>\n",
       "    </tr>\n",
       "    <tr>\n",
       "      <th>1</th>\n",
       "      <td>13/12/2020</td>\n",
       "      <td>13</td>\n",
       "      <td>12</td>\n",
       "      <td>2020</td>\n",
       "      <td>298</td>\n",
       "      <td>9</td>\n",
       "      <td>Afghanistan</td>\n",
       "      <td>AF</td>\n",
       "      <td>AFG</td>\n",
       "      <td>38041757.0</td>\n",
       "      <td>Asia</td>\n",
       "      <td>7.052776</td>\n",
       "    </tr>\n",
       "    <tr>\n",
       "      <th>2</th>\n",
       "      <td>2020-12-12 00:00:00</td>\n",
       "      <td>12</td>\n",
       "      <td>12</td>\n",
       "      <td>2020</td>\n",
       "      <td>113</td>\n",
       "      <td>11</td>\n",
       "      <td>Afghanistan</td>\n",
       "      <td>AF</td>\n",
       "      <td>AFG</td>\n",
       "      <td>38041757.0</td>\n",
       "      <td>Asia</td>\n",
       "      <td>6.868768</td>\n",
       "    </tr>\n",
       "    <tr>\n",
       "      <th>3</th>\n",
       "      <td>2020-11-12 00:00:00</td>\n",
       "      <td>11</td>\n",
       "      <td>12</td>\n",
       "      <td>2020</td>\n",
       "      <td>63</td>\n",
       "      <td>10</td>\n",
       "      <td>Afghanistan</td>\n",
       "      <td>AF</td>\n",
       "      <td>AFG</td>\n",
       "      <td>38041757.0</td>\n",
       "      <td>Asia</td>\n",
       "      <td>7.134266</td>\n",
       "    </tr>\n",
       "    <tr>\n",
       "      <th>4</th>\n",
       "      <td>2020-10-12 00:00:00</td>\n",
       "      <td>10</td>\n",
       "      <td>12</td>\n",
       "      <td>2020</td>\n",
       "      <td>202</td>\n",
       "      <td>16</td>\n",
       "      <td>Afghanistan</td>\n",
       "      <td>AF</td>\n",
       "      <td>AFG</td>\n",
       "      <td>38041757.0</td>\n",
       "      <td>Asia</td>\n",
       "      <td>6.968658</td>\n",
       "    </tr>\n",
       "    <tr>\n",
       "      <th>5</th>\n",
       "      <td>2020-09-12 00:00:00</td>\n",
       "      <td>9</td>\n",
       "      <td>12</td>\n",
       "      <td>2020</td>\n",
       "      <td>135</td>\n",
       "      <td>13</td>\n",
       "      <td>Afghanistan</td>\n",
       "      <td>AF</td>\n",
       "      <td>AFG</td>\n",
       "      <td>38041757.0</td>\n",
       "      <td>Asia</td>\n",
       "      <td>6.963401</td>\n",
       "    </tr>\n",
       "    <tr>\n",
       "      <th>6</th>\n",
       "      <td>2020-08-12 00:00:00</td>\n",
       "      <td>8</td>\n",
       "      <td>12</td>\n",
       "      <td>2020</td>\n",
       "      <td>200</td>\n",
       "      <td>6</td>\n",
       "      <td>Afghanistan</td>\n",
       "      <td>AF</td>\n",
       "      <td>AFG</td>\n",
       "      <td>38041757.0</td>\n",
       "      <td>Asia</td>\n",
       "      <td>7.094835</td>\n",
       "    </tr>\n",
       "    <tr>\n",
       "      <th>7</th>\n",
       "      <td>2020-07-12 00:00:00</td>\n",
       "      <td>7</td>\n",
       "      <td>12</td>\n",
       "      <td>2020</td>\n",
       "      <td>210</td>\n",
       "      <td>26</td>\n",
       "      <td>Afghanistan</td>\n",
       "      <td>AF</td>\n",
       "      <td>AFG</td>\n",
       "      <td>38041757.0</td>\n",
       "      <td>Asia</td>\n",
       "      <td>7.215755</td>\n",
       "    </tr>\n",
       "    <tr>\n",
       "      <th>8</th>\n",
       "      <td>2020-06-12 00:00:00</td>\n",
       "      <td>6</td>\n",
       "      <td>12</td>\n",
       "      <td>2020</td>\n",
       "      <td>234</td>\n",
       "      <td>10</td>\n",
       "      <td>Afghanistan</td>\n",
       "      <td>AF</td>\n",
       "      <td>AFG</td>\n",
       "      <td>38041757.0</td>\n",
       "      <td>Asia</td>\n",
       "      <td>7.326160</td>\n",
       "    </tr>\n",
       "    <tr>\n",
       "      <th>9</th>\n",
       "      <td>2020-05-12 00:00:00</td>\n",
       "      <td>5</td>\n",
       "      <td>12</td>\n",
       "      <td>2020</td>\n",
       "      <td>235</td>\n",
       "      <td>18</td>\n",
       "      <td>Afghanistan</td>\n",
       "      <td>AF</td>\n",
       "      <td>AFG</td>\n",
       "      <td>38041757.0</td>\n",
       "      <td>Asia</td>\n",
       "      <td>7.115865</td>\n",
       "    </tr>\n",
       "  </tbody>\n",
       "</table>\n",
       "</div>"
      ],
      "text/plain": [
       "               dateRep  day  month  year  cases  deaths  \\\n",
       "0           14/12/2020   14     12  2020    746       6   \n",
       "1           13/12/2020   13     12  2020    298       9   \n",
       "2  2020-12-12 00:00:00   12     12  2020    113      11   \n",
       "3  2020-11-12 00:00:00   11     12  2020     63      10   \n",
       "4  2020-10-12 00:00:00   10     12  2020    202      16   \n",
       "5  2020-09-12 00:00:00    9     12  2020    135      13   \n",
       "6  2020-08-12 00:00:00    8     12  2020    200       6   \n",
       "7  2020-07-12 00:00:00    7     12  2020    210      26   \n",
       "8  2020-06-12 00:00:00    6     12  2020    234      10   \n",
       "9  2020-05-12 00:00:00    5     12  2020    235      18   \n",
       "\n",
       "  countriesAndTerritories geoId countryterritoryCode  popData2019  \\\n",
       "0             Afghanistan    AF                  AFG   38041757.0   \n",
       "1             Afghanistan    AF                  AFG   38041757.0   \n",
       "2             Afghanistan    AF                  AFG   38041757.0   \n",
       "3             Afghanistan    AF                  AFG   38041757.0   \n",
       "4             Afghanistan    AF                  AFG   38041757.0   \n",
       "5             Afghanistan    AF                  AFG   38041757.0   \n",
       "6             Afghanistan    AF                  AFG   38041757.0   \n",
       "7             Afghanistan    AF                  AFG   38041757.0   \n",
       "8             Afghanistan    AF                  AFG   38041757.0   \n",
       "9             Afghanistan    AF                  AFG   38041757.0   \n",
       "\n",
       "  continentExp  Cumulative_number_for_14_days_of_COVID-19_cases_per_100000  \n",
       "0         Asia                                           9.013779           \n",
       "1         Asia                                           7.052776           \n",
       "2         Asia                                           6.868768           \n",
       "3         Asia                                           7.134266           \n",
       "4         Asia                                           6.968658           \n",
       "5         Asia                                           6.963401           \n",
       "6         Asia                                           7.094835           \n",
       "7         Asia                                           7.215755           \n",
       "8         Asia                                           7.326160           \n",
       "9         Asia                                           7.115865           "
      ]
     },
     "execution_count": 3,
     "metadata": {},
     "output_type": "execute_result"
    }
   ],
   "source": [
    "df = pandas.read_excel('s3://ia241-2-joeyaltieri/covid_data.xls')\n",
    "df[:10]"
   ]
  },
  {
   "cell_type": "markdown",
   "id": "b31953df",
   "metadata": {},
   "source": [
    "## America's COVID data"
   ]
  },
  {
   "cell_type": "code",
   "execution_count": 6,
   "id": "378b5691",
   "metadata": {},
   "outputs": [
    {
     "data": {
      "text/html": [
       "<div>\n",
       "<style scoped>\n",
       "    .dataframe tbody tr th:only-of-type {\n",
       "        vertical-align: middle;\n",
       "    }\n",
       "\n",
       "    .dataframe tbody tr th {\n",
       "        vertical-align: top;\n",
       "    }\n",
       "\n",
       "    .dataframe thead th {\n",
       "        text-align: right;\n",
       "    }\n",
       "</style>\n",
       "<table border=\"1\" class=\"dataframe\">\n",
       "  <thead>\n",
       "    <tr style=\"text-align: right;\">\n",
       "      <th></th>\n",
       "      <th>dateRep</th>\n",
       "      <th>day</th>\n",
       "      <th>month</th>\n",
       "      <th>year</th>\n",
       "      <th>cases</th>\n",
       "      <th>deaths</th>\n",
       "      <th>countriesAndTerritories</th>\n",
       "      <th>geoId</th>\n",
       "      <th>countryterritoryCode</th>\n",
       "      <th>popData2019</th>\n",
       "      <th>continentExp</th>\n",
       "      <th>Cumulative_number_for_14_days_of_COVID-19_cases_per_100000</th>\n",
       "    </tr>\n",
       "  </thead>\n",
       "  <tbody>\n",
       "    <tr>\n",
       "      <th>59001</th>\n",
       "      <td>14/12/2020</td>\n",
       "      <td>14</td>\n",
       "      <td>12</td>\n",
       "      <td>2020</td>\n",
       "      <td>189723</td>\n",
       "      <td>1340</td>\n",
       "      <td>United_States_of_America</td>\n",
       "      <td>US</td>\n",
       "      <td>USA</td>\n",
       "      <td>329064917.0</td>\n",
       "      <td>America</td>\n",
       "      <td>873.211592</td>\n",
       "    </tr>\n",
       "    <tr>\n",
       "      <th>59002</th>\n",
       "      <td>13/12/2020</td>\n",
       "      <td>13</td>\n",
       "      <td>12</td>\n",
       "      <td>2020</td>\n",
       "      <td>216017</td>\n",
       "      <td>2315</td>\n",
       "      <td>United_States_of_America</td>\n",
       "      <td>US</td>\n",
       "      <td>USA</td>\n",
       "      <td>329064917.0</td>\n",
       "      <td>America</td>\n",
       "      <td>857.089241</td>\n",
       "    </tr>\n",
       "    <tr>\n",
       "      <th>59003</th>\n",
       "      <td>2020-12-12 00:00:00</td>\n",
       "      <td>12</td>\n",
       "      <td>12</td>\n",
       "      <td>2020</td>\n",
       "      <td>234633</td>\n",
       "      <td>3343</td>\n",
       "      <td>United_States_of_America</td>\n",
       "      <td>US</td>\n",
       "      <td>USA</td>\n",
       "      <td>329064917.0</td>\n",
       "      <td>America</td>\n",
       "      <td>838.514183</td>\n",
       "    </tr>\n",
       "    <tr>\n",
       "      <th>59004</th>\n",
       "      <td>2020-11-12 00:00:00</td>\n",
       "      <td>11</td>\n",
       "      <td>12</td>\n",
       "      <td>2020</td>\n",
       "      <td>224680</td>\n",
       "      <td>2748</td>\n",
       "      <td>United_States_of_America</td>\n",
       "      <td>US</td>\n",
       "      <td>USA</td>\n",
       "      <td>329064917.0</td>\n",
       "      <td>America</td>\n",
       "      <td>830.394205</td>\n",
       "    </tr>\n",
       "    <tr>\n",
       "      <th>59005</th>\n",
       "      <td>2020-10-12 00:00:00</td>\n",
       "      <td>10</td>\n",
       "      <td>12</td>\n",
       "      <td>2020</td>\n",
       "      <td>220025</td>\n",
       "      <td>3124</td>\n",
       "      <td>United_States_of_America</td>\n",
       "      <td>US</td>\n",
       "      <td>USA</td>\n",
       "      <td>329064917.0</td>\n",
       "      <td>America</td>\n",
       "      <td>794.356027</td>\n",
       "    </tr>\n",
       "    <tr>\n",
       "      <th>59006</th>\n",
       "      <td>2020-09-12 00:00:00</td>\n",
       "      <td>9</td>\n",
       "      <td>12</td>\n",
       "      <td>2020</td>\n",
       "      <td>217344</td>\n",
       "      <td>2564</td>\n",
       "      <td>United_States_of_America</td>\n",
       "      <td>US</td>\n",
       "      <td>USA</td>\n",
       "      <td>329064917.0</td>\n",
       "      <td>America</td>\n",
       "      <td>784.195114</td>\n",
       "    </tr>\n",
       "    <tr>\n",
       "      <th>59007</th>\n",
       "      <td>2020-08-12 00:00:00</td>\n",
       "      <td>8</td>\n",
       "      <td>12</td>\n",
       "      <td>2020</td>\n",
       "      <td>197334</td>\n",
       "      <td>1433</td>\n",
       "      <td>United_States_of_America</td>\n",
       "      <td>US</td>\n",
       "      <td>USA</td>\n",
       "      <td>329064917.0</td>\n",
       "      <td>America</td>\n",
       "      <td>769.896719</td>\n",
       "    </tr>\n",
       "    <tr>\n",
       "      <th>59008</th>\n",
       "      <td>2020-07-12 00:00:00</td>\n",
       "      <td>7</td>\n",
       "      <td>12</td>\n",
       "      <td>2020</td>\n",
       "      <td>173432</td>\n",
       "      <td>1111</td>\n",
       "      <td>United_States_of_America</td>\n",
       "      <td>US</td>\n",
       "      <td>USA</td>\n",
       "      <td>329064917.0</td>\n",
       "      <td>America</td>\n",
       "      <td>762.794473</td>\n",
       "    </tr>\n",
       "    <tr>\n",
       "      <th>59009</th>\n",
       "      <td>2020-06-12 00:00:00</td>\n",
       "      <td>6</td>\n",
       "      <td>12</td>\n",
       "      <td>2020</td>\n",
       "      <td>211933</td>\n",
       "      <td>2203</td>\n",
       "      <td>United_States_of_America</td>\n",
       "      <td>US</td>\n",
       "      <td>USA</td>\n",
       "      <td>329064917.0</td>\n",
       "      <td>America</td>\n",
       "      <td>757.944062</td>\n",
       "    </tr>\n",
       "    <tr>\n",
       "      <th>59010</th>\n",
       "      <td>2020-05-12 00:00:00</td>\n",
       "      <td>5</td>\n",
       "      <td>12</td>\n",
       "      <td>2020</td>\n",
       "      <td>231930</td>\n",
       "      <td>2680</td>\n",
       "      <td>United_States_of_America</td>\n",
       "      <td>US</td>\n",
       "      <td>USA</td>\n",
       "      <td>329064917.0</td>\n",
       "      <td>America</td>\n",
       "      <td>746.870564</td>\n",
       "    </tr>\n",
       "  </tbody>\n",
       "</table>\n",
       "</div>"
      ],
      "text/plain": [
       "                   dateRep  day  month  year   cases  deaths  \\\n",
       "59001           14/12/2020   14     12  2020  189723    1340   \n",
       "59002           13/12/2020   13     12  2020  216017    2315   \n",
       "59003  2020-12-12 00:00:00   12     12  2020  234633    3343   \n",
       "59004  2020-11-12 00:00:00   11     12  2020  224680    2748   \n",
       "59005  2020-10-12 00:00:00   10     12  2020  220025    3124   \n",
       "59006  2020-09-12 00:00:00    9     12  2020  217344    2564   \n",
       "59007  2020-08-12 00:00:00    8     12  2020  197334    1433   \n",
       "59008  2020-07-12 00:00:00    7     12  2020  173432    1111   \n",
       "59009  2020-06-12 00:00:00    6     12  2020  211933    2203   \n",
       "59010  2020-05-12 00:00:00    5     12  2020  231930    2680   \n",
       "\n",
       "        countriesAndTerritories geoId countryterritoryCode  popData2019  \\\n",
       "59001  United_States_of_America    US                  USA  329064917.0   \n",
       "59002  United_States_of_America    US                  USA  329064917.0   \n",
       "59003  United_States_of_America    US                  USA  329064917.0   \n",
       "59004  United_States_of_America    US                  USA  329064917.0   \n",
       "59005  United_States_of_America    US                  USA  329064917.0   \n",
       "59006  United_States_of_America    US                  USA  329064917.0   \n",
       "59007  United_States_of_America    US                  USA  329064917.0   \n",
       "59008  United_States_of_America    US                  USA  329064917.0   \n",
       "59009  United_States_of_America    US                  USA  329064917.0   \n",
       "59010  United_States_of_America    US                  USA  329064917.0   \n",
       "\n",
       "      continentExp  Cumulative_number_for_14_days_of_COVID-19_cases_per_100000  \n",
       "59001      America                                         873.211592           \n",
       "59002      America                                         857.089241           \n",
       "59003      America                                         838.514183           \n",
       "59004      America                                         830.394205           \n",
       "59005      America                                         794.356027           \n",
       "59006      America                                         784.195114           \n",
       "59007      America                                         769.896719           \n",
       "59008      America                                         762.794473           \n",
       "59009      America                                         757.944062           \n",
       "59010      America                                         746.870564           "
      ]
     },
     "execution_count": 6,
     "metadata": {},
     "output_type": "execute_result"
    }
   ],
   "source": [
    "America_data = df.loc[df['countriesAndTerritories']== 'United_States_of_America']\n",
    "America_data[:10]"
   ]
  },
  {
   "cell_type": "markdown",
   "id": "1b08b5b2",
   "metadata": {},
   "source": [
    "## Three questions are what is the trend in deaths overtime, what months were most deadly for america, and how are the cases and deaths related"
   ]
  },
  {
   "cell_type": "markdown",
   "id": "d4ac73c4",
   "metadata": {},
   "source": [
    "## Question 1, what are the trends in deaths over time"
   ]
  },
  {
   "cell_type": "code",
   "execution_count": 18,
   "id": "afdf84b5",
   "metadata": {},
   "outputs": [
    {
     "data": {
      "text/plain": [
       "<AxesSubplot:xlabel='month'>"
      ]
     },
     "execution_count": 18,
     "metadata": {},
     "output_type": "execute_result"
    },
    {
     "data": {
      "image/png": "[encoded data removed]",
      "text/plain": [
       "<Figure size 432x288 with 1 Axes>"
      ]
     },
     "metadata": {
      "needs_background": "light"
     },
     "output_type": "display_data"
    }
   ],
   "source": [
    "cases = America_data.groupby('month').sum()['deaths']\n",
    "cases.plot()"
   ]
  },
  {
   "cell_type": "markdown",
   "id": "6bac4c01",
   "metadata": {},
   "source": [
    "It trended upwards until month 4, then fluctuated after, never going above 40,000"
   ]
  },
  {
   "cell_type": "markdown",
   "id": "56c95e15",
   "metadata": {},
   "source": [
    "## What was the most deadly month for America?"
   ]
  },
  {
   "cell_type": "code",
   "execution_count": 17,
   "id": "1f1b0e91",
   "metadata": {},
   "outputs": [
    {
     "data": {
      "text/plain": [
       "<AxesSubplot:xlabel='month'>"
      ]
     },
     "execution_count": 17,
     "metadata": {},
     "output_type": "execute_result"
    },
    {
     "data": {
      "image/png": "[encoded data removed]",
      "text/plain": [
       "<Figure size 432x288 with 1 Axes>"
      ]
     },
     "metadata": {
      "needs_background": "light"
     },
     "output_type": "display_data"
    }
   ],
   "source": [
    "deaths = America_data.groupby('month').sum()['deaths']\n",
    "deaths.plot.bar() "
   ]
  },
  {
   "cell_type": "markdown",
   "id": "7d31fcf0",
   "metadata": {},
   "source": [
    "The most deadly month for America was by far month 4, almost reaching 60,000 deaths."
   ]
  },
  {
   "cell_type": "markdown",
   "id": "f44697cb",
   "metadata": {},
   "source": [
    "## How are cases and deaths related?"
   ]
  },
  {
   "cell_type": "code",
   "execution_count": 19,
   "id": "ed6ace58",
   "metadata": {},
   "outputs": [
    {
     "data": {
      "text/plain": [
       "<AxesSubplot:xlabel='cases', ylabel='deaths'>"
      ]
     },
     "execution_count": 19,
     "metadata": {},
     "output_type": "execute_result"
    },
    {
     "data": {
      "image/png": "[encoded data removed]",
      "text/plain": [
       "<Figure size 432x288 with 1 Axes>"
      ]
     },
     "metadata": {
      "needs_background": "light"
     },
     "output_type": "display_data"
    }
   ],
   "source": [
    "America_data.plot.scatter(x = 'cases', y = 'deaths')"
   ]
  },
  {
   "cell_type": "markdown",
   "id": "f76c73ad",
   "metadata": {},
   "source": [
    "There is an upwards trend of cases with deaths. Before 100,000 cases there is a great cluster where there appear to be many outliers."
   ]
  },
  {
   "cell_type": "markdown",
   "id": "cb7dabe8",
   "metadata": {},
   "source": [
    "## Conclusion"
   ]
  },
  {
   "cell_type": "markdown",
   "id": "3c90dc60",
   "metadata": {},
   "source": [
    "America had its peak number of deaths in May. The deaths then trended downwards to a point after that and picked back up. A limitation is that the data is only from 2020. I could improve upon this project more in the future through making more complex graphs."
   ]
  },
  {
   "cell_type": "code",
   "execution_count": null,
   "id": "e806ca87",
   "metadata": {},
   "outputs": [],
   "source": []
  }
 ],
 "metadata": {
  "kernelspec": {
   "display_name": "conda_python3",
   "language": "python",
   "name": "conda_python3"
  },
  "language_info": {
   "codemirror_mode": {
    "name": "ipython",
    "version": 3
   },
   "file_extension": ".py",
   "mimetype": "text/x-python",
   "name": "python",
   "nbconvert_exporter": "python",
   "pygments_lexer": "ipython3",
   "version": "3.6.13"
  }
 },
 "nbformat": 4,
 "nbformat_minor": 5
}
